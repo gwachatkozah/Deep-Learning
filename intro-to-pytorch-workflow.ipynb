{
 "cells": [
  {
   "cell_type": "markdown",
   "id": "0b78f0b1",
   "metadata": {
    "papermill": {
     "duration": 0.01897,
     "end_time": "2024-10-29T15:32:18.996004",
     "exception": false,
     "start_time": "2024-10-29T15:32:18.977034",
     "status": "completed"
    },
    "tags": []
   },
   "source": [
    "# PyTorch Workflow"
   ]
  },
  {
   "cell_type": "markdown",
   "id": "df9aa8b7",
   "metadata": {
    "papermill": {
     "duration": 0.018818,
     "end_time": "2024-10-29T15:32:19.033103",
     "exception": false,
     "start_time": "2024-10-29T15:32:19.014285",
     "status": "completed"
    },
    "tags": []
   },
   "source": [
    "\n",
    "Outline:\n",
    "1. Data (Preparing and Loading).\n",
    "2. Build Model.\n",
    "3. Fitting the Model (Training).\n",
    "4. Making Predictions and Evaluating a Model (Inference).\n",
    "5. Putting it all Together."
   ]
  },
  {
   "cell_type": "code",
   "execution_count": 1,
   "id": "31ec1aff",
   "metadata": {
    "_cell_guid": "b1076dfc-b9ad-4769-8c92-a6c4dae69d19",
    "_uuid": "8f2839f25d086af736a60e9eeb907d3b93b6e0e5",
    "execution": {
     "iopub.execute_input": "2024-10-29T15:32:19.071575Z",
     "iopub.status.busy": "2024-10-29T15:32:19.070991Z",
     "iopub.status.idle": "2024-10-29T15:32:22.300411Z",
     "shell.execute_reply": "2024-10-29T15:32:22.299305Z"
    },
    "papermill": {
     "duration": 3.258098,
     "end_time": "2024-10-29T15:32:22.309235",
     "exception": false,
     "start_time": "2024-10-29T15:32:19.051137",
     "status": "completed"
    },
    "tags": []
   },
   "outputs": [
    {
     "data": {
      "text/plain": [
       "'2.4.0+cpu'"
      ]
     },
     "execution_count": 1,
     "metadata": {},
     "output_type": "execute_result"
    }
   ],
   "source": [
    "import torch\n",
    "from torch import nn # nn contains all of PyTorch builiding blocks for neural networks\n",
    "import matplotlib.pyplot as plt\n",
    "import numpy as np\n",
    "\n",
    "torch.__version__ #checking pytorch version"
   ]
  },
  {
   "cell_type": "markdown",
   "id": "d4f799d0",
   "metadata": {
    "papermill": {
     "duration": 0.022683,
     "end_time": "2024-10-29T15:32:22.355786",
     "exception": false,
     "start_time": "2024-10-29T15:32:22.333103",
     "status": "completed"
    },
    "tags": []
   },
   "source": [
    "# 1. Data (Preparing and Loading)\n",
    "\n",
    "Machine learning is a game of 2 parts:\n",
    "1. Get data into a numerical representation.\n",
    "2. Build a model to learn patterns in that numerical representation.\n",
    "\n",
    "To showcase this, let's create some **known** data using the Linear Regression formula.\n",
    "\n",
    "We'll use a Linear Regression formula to make a straight line with known **parameters**."
   ]
  },
  {
   "cell_type": "code",
   "execution_count": 2,
   "id": "0af7aed2",
   "metadata": {
    "execution": {
     "iopub.execute_input": "2024-10-29T15:32:22.396345Z",
     "iopub.status.busy": "2024-10-29T15:32:22.395349Z",
     "iopub.status.idle": "2024-10-29T15:32:22.524435Z",
     "shell.execute_reply": "2024-10-29T15:32:22.523238Z"
    },
    "papermill": {
     "duration": 0.153061,
     "end_time": "2024-10-29T15:32:22.527391",
     "exception": false,
     "start_time": "2024-10-29T15:32:22.374330",
     "status": "completed"
    },
    "tags": []
   },
   "outputs": [
    {
     "data": {
      "text/plain": [
       "(tensor([[0.0000],\n",
       "         [0.0200],\n",
       "         [0.0400],\n",
       "         [0.0600],\n",
       "         [0.0800],\n",
       "         [0.1000],\n",
       "         [0.1200],\n",
       "         [0.1400],\n",
       "         [0.1600],\n",
       "         [0.1800]]),\n",
       " tensor([[0.3000],\n",
       "         [0.3140],\n",
       "         [0.3280],\n",
       "         [0.3420],\n",
       "         [0.3560],\n",
       "         [0.3700],\n",
       "         [0.3840],\n",
       "         [0.3980],\n",
       "         [0.4120],\n",
       "         [0.4260]]))"
      ]
     },
     "execution_count": 2,
     "metadata": {},
     "output_type": "execute_result"
    }
   ],
   "source": [
    "# create known parameters\n",
    "weight = 0.7\n",
    "bias = 0.3\n",
    "\n",
    "# create data\n",
    "start = 0\n",
    "end = 1\n",
    "step = 0.02\n",
    "X = torch.arange(start, end, step).unsqueeze(dim=1)\n",
    "y = weight * X + bias\n",
    "\n",
    "X[:10], y[:10]"
   ]
  },
  {
   "cell_type": "code",
   "execution_count": 3,
   "id": "26e3003a",
   "metadata": {
    "execution": {
     "iopub.execute_input": "2024-10-29T15:32:22.572232Z",
     "iopub.status.busy": "2024-10-29T15:32:22.571797Z",
     "iopub.status.idle": "2024-10-29T15:32:22.579473Z",
     "shell.execute_reply": "2024-10-29T15:32:22.578241Z"
    },
    "papermill": {
     "duration": 0.030138,
     "end_time": "2024-10-29T15:32:22.581944",
     "exception": false,
     "start_time": "2024-10-29T15:32:22.551806",
     "status": "completed"
    },
    "tags": []
   },
   "outputs": [
    {
     "data": {
      "text/plain": [
       "(50, 50)"
      ]
     },
     "execution_count": 3,
     "metadata": {},
     "output_type": "execute_result"
    }
   ],
   "source": [
    "len(X), len(y)"
   ]
  },
  {
   "cell_type": "markdown",
   "id": "c3ea45ac",
   "metadata": {
    "papermill": {
     "duration": 0.018353,
     "end_time": "2024-10-29T15:32:22.619009",
     "exception": false,
     "start_time": "2024-10-29T15:32:22.600656",
     "status": "completed"
    },
    "tags": []
   },
   "source": [
    "## Splitting Data into Training and Test Sets\n",
    "Let's create a training and test set with our data"
   ]
  },
  {
   "cell_type": "code",
   "execution_count": 4,
   "id": "616bfaca",
   "metadata": {
    "execution": {
     "iopub.execute_input": "2024-10-29T15:32:22.658112Z",
     "iopub.status.busy": "2024-10-29T15:32:22.657708Z",
     "iopub.status.idle": "2024-10-29T15:32:22.666856Z",
     "shell.execute_reply": "2024-10-29T15:32:22.665721Z"
    },
    "papermill": {
     "duration": 0.032032,
     "end_time": "2024-10-29T15:32:22.669757",
     "exception": false,
     "start_time": "2024-10-29T15:32:22.637725",
     "status": "completed"
    },
    "tags": []
   },
   "outputs": [
    {
     "data": {
      "text/plain": [
       "(40, 40, 10, 10)"
      ]
     },
     "execution_count": 4,
     "metadata": {},
     "output_type": "execute_result"
    }
   ],
   "source": [
    "# create a train/test split\n",
    "train_split = int(0.8 * len(X)) # 80% of the data\n",
    "X_train, y_train = X[:train_split], y[:train_split]\n",
    "X_test, y_test = X[train_split:], y[train_split:]\n",
    "\n",
    "len(X_train), len(y_train), len(X_test), len(y_test)"
   ]
  },
  {
   "cell_type": "code",
   "execution_count": 5,
   "id": "9960d788",
   "metadata": {
    "execution": {
     "iopub.execute_input": "2024-10-29T15:32:22.713319Z",
     "iopub.status.busy": "2024-10-29T15:32:22.712353Z",
     "iopub.status.idle": "2024-10-29T15:32:22.721080Z",
     "shell.execute_reply": "2024-10-29T15:32:22.719909Z"
    },
    "papermill": {
     "duration": 0.031834,
     "end_time": "2024-10-29T15:32:22.723856",
     "exception": false,
     "start_time": "2024-10-29T15:32:22.692022",
     "status": "completed"
    },
    "tags": []
   },
   "outputs": [],
   "source": [
    "def plot_predictions(train_data = X_train,\n",
    "                     train_labels = y_train,\n",
    "                     test_data = X_test,\n",
    "                     test_labels = y_test,\n",
    "                     predictions = None):\n",
    "    \"\"\"\n",
    "    Plots training data, test data and compares predictions.\n",
    "    \"\"\"\n",
    "    plt.figure(figsize = (10,7))\n",
    "    # plot training data in blue\n",
    "    plt.scatter(X_train, y_train, c='b', label='Training Data')\n",
    "    # plot test data in green\n",
    "    plt.scatter(X_test, y_test, c='g', label='Testing Data')\n",
    "\n",
    "    # are there predictions?\n",
    "    if predictions is not None:\n",
    "        # plot the predictions if they exist\n",
    "        plt.scatter(test_data, predictions, c='r', label='Predictions')\n",
    "\n",
    "    # show the legend\n",
    "    plt.legend(prop={'size':14})\n",
    "    plt.show()"
   ]
  },
  {
   "cell_type": "code",
   "execution_count": 6,
   "id": "c0d4ea5b",
   "metadata": {
    "execution": {
     "iopub.execute_input": "2024-10-29T15:32:22.765680Z",
     "iopub.status.busy": "2024-10-29T15:32:22.765201Z",
     "iopub.status.idle": "2024-10-29T15:32:23.159676Z",
     "shell.execute_reply": "2024-10-29T15:32:23.158276Z"
    },
    "papermill": {
     "duration": 0.417349,
     "end_time": "2024-10-29T15:32:23.162349",
     "exception": false,
     "start_time": "2024-10-29T15:32:22.745000",
     "status": "completed"
    },
    "tags": []
   },
   "outputs": [
    {
     "data": {
      "image/png": "[encoded data removed]",
      "text/plain": [
       "<Figure size 1000x700 with 1 Axes>"
      ]
     },
     "metadata": {},
     "output_type": "display_data"
    }
   ],
   "source": [
    "plot_predictions()"
   ]
  },
  {
   "cell_type": "markdown",
   "id": "6f92fba4",
   "metadata": {
    "execution": {
     "iopub.execute_input": "2024-10-29T15:15:37.970140Z",
     "iopub.status.busy": "2024-10-29T15:15:37.969681Z",
     "iopub.status.idle": "2024-10-29T15:15:37.979670Z",
     "shell.execute_reply": "2024-10-29T15:15:37.977767Z",
     "shell.execute_reply.started": "2024-10-29T15:15:37.970100Z"
    },
    "papermill": {
     "duration": 0.01916,
     "end_time": "2024-10-29T15:32:23.201284",
     "exception": false,
     "start_time": "2024-10-29T15:32:23.182124",
     "status": "completed"
    },
    "tags": []
   },
   "source": [
    "# 2. Build Model\n",
    "What our model does:\n",
    "* Start with random values (weight & bias)\n",
    "* Look at training data and adjust values to better represent (or get closer to) the ideal values (the weight & bias values used to create data)\n",
    "\n",
    "How does is it do so?<br>\n",
    "Through two main algorithms:\n",
    "1. Gradient descent.\n",
    "2. Backpropagation."
   ]
  },
  {
   "cell_type": "code",
   "execution_count": 7,
   "id": "015aa0e7",
   "metadata": {
    "execution": {
     "iopub.execute_input": "2024-10-29T15:32:23.242633Z",
     "iopub.status.busy": "2024-10-29T15:32:23.242155Z",
     "iopub.status.idle": "2024-10-29T15:32:23.250391Z",
     "shell.execute_reply": "2024-10-29T15:32:23.249148Z"
    },
    "papermill": {
     "duration": 0.031776,
     "end_time": "2024-10-29T15:32:23.252957",
     "exception": false,
     "start_time": "2024-10-29T15:32:23.221181",
     "status": "completed"
    },
    "tags": []
   },
   "outputs": [],
   "source": [
    "# creating linear regression model class\n",
    "class LinearRegressionModel(nn.Module): # <- almost everything in PyTorch\n",
    "    def __init__(self):\n",
    "        super().__init__()\n",
    "        self.weight = nn.Parameter(torch.randn(1,\n",
    "                                                requires_grad = True,\n",
    "                                            dtype = torch.float))\n",
    "\n",
    "        self.bias = nn.Parameter(torch.randn(1,\n",
    "                                         requires_grad = True,\n",
    "                                         dtype = torch.float))\n",
    "\n",
    "    # forward method to define computation in model\n",
    "    def forward(self, x: torch.Tensor) -> torch.Tensor: # <- \"x\" is the input data\n",
    "        return self.weight * x + self.bias"
   ]
  },
  {
   "cell_type": "markdown",
   "id": "1ff87fe1",
   "metadata": {
    "papermill": {
     "duration": 0.019076,
     "end_time": "2024-10-29T15:32:23.291493",
     "exception": false,
     "start_time": "2024-10-29T15:32:23.272417",
     "status": "completed"
    },
    "tags": []
   },
   "source": [
    "## PyTorch model building essentials\n",
    "* `torch.nn` - contains all the building blocks for computational graphs.\n",
    "* `torch.nn.Parameter` - what parameters should our model try and learn, often a PyTorch layer from `torch.nn` will set these for us.\n",
    "* `torch.nn.Module` - the base class for all neural network modules, if you subclass it, you should overwrite forward().\n",
    "* `torch.optim` - this is where the optimizers in PyTorch live, they will help with gradient descent.\n",
    "* `def forward()` - all nn.Module subclasses require you to overwrite forward. This method defines what happens in the forward computation."
   ]
  },
  {
   "cell_type": "markdown",
   "id": "c0df5e47",
   "metadata": {
    "papermill": {
     "duration": 0.019476,
     "end_time": "2024-10-29T15:32:23.330677",
     "exception": false,
     "start_time": "2024-10-29T15:32:23.311201",
     "status": "completed"
    },
    "tags": []
   },
   "source": [
    "## Checking the contents of our PyTorch model\n",
    "We can check our model parameters or what's inside our model using `.parameters()`"
   ]
  },
  {
   "cell_type": "code",
   "execution_count": 8,
   "id": "e66f0478",
   "metadata": {
    "execution": {
     "iopub.execute_input": "2024-10-29T15:32:23.372178Z",
     "iopub.status.busy": "2024-10-29T15:32:23.371204Z",
     "iopub.status.idle": "2024-10-29T15:32:23.392770Z",
     "shell.execute_reply": "2024-10-29T15:32:23.391534Z"
    },
    "papermill": {
     "duration": 0.045329,
     "end_time": "2024-10-29T15:32:23.395434",
     "exception": false,
     "start_time": "2024-10-29T15:32:23.350105",
     "status": "completed"
    },
    "tags": []
   },
   "outputs": [
    {
     "data": {
      "text/plain": [
       "OrderedDict([('weight', tensor([0.3367])), ('bias', tensor([0.1288]))])"
      ]
     },
     "execution_count": 8,
     "metadata": {},
     "output_type": "execute_result"
    }
   ],
   "source": [
    "# create a random seed\n",
    "torch.manual_seed(42)\n",
    "\n",
    "# create an instance of the model (this is a subclass of nn.Module)\n",
    "model_0 = LinearRegressionModel()\n",
    "\n",
    "# check out the parameters\n",
    "list(model_0.parameters())\n",
    "\n",
    "# list of named parameters\n",
    "model_0.state_dict()"
   ]
  },
  {
   "cell_type": "markdown",
   "id": "1fefdd9d",
   "metadata": {
    "papermill": {
     "duration": 0.019502,
     "end_time": "2024-10-29T15:32:23.435294",
     "exception": false,
     "start_time": "2024-10-29T15:32:23.415792",
     "status": "completed"
    },
    "tags": []
   },
   "source": [
    "## Making predictions using `torch.inference_mode()`\n",
    "To check our model's predictive power, let's see how well it predicts `y_test` based on `X_test`.\n",
    "\n",
    "When we pased data through our model, it's going to run it through the forward() method."
   ]
  },
  {
   "cell_type": "code",
   "execution_count": 9,
   "id": "9653dde9",
   "metadata": {
    "execution": {
     "iopub.execute_input": "2024-10-29T15:32:23.476527Z",
     "iopub.status.busy": "2024-10-29T15:32:23.476084Z",
     "iopub.status.idle": "2024-10-29T15:32:23.485659Z",
     "shell.execute_reply": "2024-10-29T15:32:23.484418Z"
    },
    "papermill": {
     "duration": 0.033115,
     "end_time": "2024-10-29T15:32:23.488189",
     "exception": false,
     "start_time": "2024-10-29T15:32:23.455074",
     "status": "completed"
    },
    "tags": []
   },
   "outputs": [
    {
     "data": {
      "text/plain": [
       "tensor([[0.3982],\n",
       "        [0.4049],\n",
       "        [0.4116],\n",
       "        [0.4184],\n",
       "        [0.4251],\n",
       "        [0.4318],\n",
       "        [0.4386],\n",
       "        [0.4453],\n",
       "        [0.4520],\n",
       "        [0.4588]])"
      ]
     },
     "execution_count": 9,
     "metadata": {},
     "output_type": "execute_result"
    }
   ],
   "source": [
    "# making predictions with model\n",
    "with torch.inference_mode():\n",
    "    y_preds = model_0(X_test)\n",
    "\n",
    "y_preds"
   ]
  },
  {
   "cell_type": "code",
   "execution_count": 10,
   "id": "4cc35e8e",
   "metadata": {
    "execution": {
     "iopub.execute_input": "2024-10-29T15:32:23.532046Z",
     "iopub.status.busy": "2024-10-29T15:32:23.531565Z",
     "iopub.status.idle": "2024-10-29T15:32:23.899897Z",
     "shell.execute_reply": "2024-10-29T15:32:23.898643Z"
    },
    "papermill": {
     "duration": 0.391919,
     "end_time": "2024-10-29T15:32:23.902283",
     "exception": false,
     "start_time": "2024-10-29T15:32:23.510364",
     "status": "completed"
    },
    "tags": []
   },
   "outputs": [
    {
     "data": {
      "image/png": "[encoded data removed]",
      "text/plain": [
       "<Figure size 1000x700 with 1 Axes>"
      ]
     },
     "metadata": {},
     "output_type": "display_data"
    }
   ],
   "source": [
    "plot_predictions(predictions = y_preds)"
   ]
  },
  {
   "cell_type": "markdown",
   "id": "70efce8a",
   "metadata": {
    "papermill": {
     "duration": 0.020933,
     "end_time": "2024-10-29T15:32:23.943574",
     "exception": false,
     "start_time": "2024-10-29T15:32:23.922641",
     "status": "completed"
    },
    "tags": []
   },
   "source": [
    "# 3. Train Model\n",
    "The whle idea of trasining is for our model to move from some *unknown* parameters (these may be random) to some *known* parameters or in otherwords, from a poor representation of the data to a better representation of the data.\n",
    "\n",
    "One way to measure how por or how wrong a model's predictions are is to use loss function.\n",
    "\n",
    "**Note**: Loss function may also be called cost function or criterion in different areas.\n",
    "\n",
    "Things we need to start:\n",
    "\n",
    "* **Loss Function**: A function to measure how wrong your model's predictions are to the ideal outputs (lower is better).\n",
    "* **Optimizer**: Takes into account the loss of a model\n",
    "  and adjusts the model's parameters (e.g. weight & bias) to improve the loss function.\n",
    "\n",
    "Specifically for Pytorch, we need:\n",
    "* A training loop, and\n",
    "* A testing loop"
   ]
  },
  {
   "cell_type": "code",
   "execution_count": 11,
   "id": "5e20019e",
   "metadata": {
    "execution": {
     "iopub.execute_input": "2024-10-29T15:32:23.985962Z",
     "iopub.status.busy": "2024-10-29T15:32:23.985017Z",
     "iopub.status.idle": "2024-10-29T15:32:23.993711Z",
     "shell.execute_reply": "2024-10-29T15:32:23.992629Z"
    },
    "papermill": {
     "duration": 0.032403,
     "end_time": "2024-10-29T15:32:23.995970",
     "exception": false,
     "start_time": "2024-10-29T15:32:23.963567",
     "status": "completed"
    },
    "tags": []
   },
   "outputs": [
    {
     "data": {
      "text/plain": [
       "[Parameter containing:\n",
       " tensor([0.3367], requires_grad=True),\n",
       " Parameter containing:\n",
       " tensor([0.1288], requires_grad=True)]"
      ]
     },
     "execution_count": 11,
     "metadata": {},
     "output_type": "execute_result"
    }
   ],
   "source": [
    "# checking for parameters in model_0\n",
    "list(model_0.parameters())"
   ]
  },
  {
   "cell_type": "code",
   "execution_count": 12,
   "id": "e4ce7b05",
   "metadata": {
    "execution": {
     "iopub.execute_input": "2024-10-29T15:32:24.038296Z",
     "iopub.status.busy": "2024-10-29T15:32:24.037890Z",
     "iopub.status.idle": "2024-10-29T15:32:24.046806Z",
     "shell.execute_reply": "2024-10-29T15:32:24.045622Z"
    },
    "papermill": {
     "duration": 0.032763,
     "end_time": "2024-10-29T15:32:24.049055",
     "exception": false,
     "start_time": "2024-10-29T15:32:24.016292",
     "status": "completed"
    },
    "tags": []
   },
   "outputs": [
    {
     "data": {
      "text/plain": [
       "OrderedDict([('weight', tensor([0.3367])), ('bias', tensor([0.1288]))])"
      ]
     },
     "execution_count": 12,
     "metadata": {},
     "output_type": "execute_result"
    }
   ],
   "source": [
    "# to get labeled parameters\n",
    "model_0.state_dict()"
   ]
  },
  {
   "cell_type": "code",
   "execution_count": 13,
   "id": "07b02ed6",
   "metadata": {
    "execution": {
     "iopub.execute_input": "2024-10-29T15:32:24.091908Z",
     "iopub.status.busy": "2024-10-29T15:32:24.091405Z",
     "iopub.status.idle": "2024-10-29T15:32:25.797947Z",
     "shell.execute_reply": "2024-10-29T15:32:25.796807Z"
    },
    "papermill": {
     "duration": 1.731373,
     "end_time": "2024-10-29T15:32:25.800836",
     "exception": false,
     "start_time": "2024-10-29T15:32:24.069463",
     "status": "completed"
    },
    "tags": []
   },
   "outputs": [],
   "source": [
    "# setting up a loss function\n",
    "loss_fn = nn.L1Loss()\n",
    "\n",
    "# setting up an optimizer\n",
    "optimizier = torch.optim.SGD(params = model_0.parameters(),\n",
    "                      lr = 0.01) # lr = learning rate(hyper parameter)"
   ]
  },
  {
   "cell_type": "markdown",
   "id": "174b3d2f",
   "metadata": {
    "papermill": {
     "duration": 0.020258,
     "end_time": "2024-10-29T15:32:25.841698",
     "exception": false,
     "start_time": "2024-10-29T15:32:25.821440",
     "status": "completed"
    },
    "tags": []
   },
   "source": [
    "## Builiding a trainig loop (and a testing loop) in PyTorch.\n",
    "A couple of things we need in a training loop:\n",
    "\n",
    "0. Loop through the data.\n",
    "1. Forward pass (this invloves data moving through outr model's `forward()`) function(s) -  also called forward propagtion.\n",
    "2. Calculate the loss (compare the foraward pass preds to ground truth labels)\n",
    "3. Optimizier zero grad.\n",
    "4. Loss backward - move backwards throught the network to calculate the gradients of each of the parameters of our model with respect to the loss (**back-propagation**).\n",
    "5. Optimizer step - use the optimizer ro adjust our model's parameters to try and improve the lose (**gradient descent**)."
   ]
  },
  {
   "cell_type": "code",
   "execution_count": 14,
   "id": "8b438d89",
   "metadata": {
    "execution": {
     "iopub.execute_input": "2024-10-29T15:32:25.884783Z",
     "iopub.status.busy": "2024-10-29T15:32:25.884155Z",
     "iopub.status.idle": "2024-10-29T15:32:26.034727Z",
     "shell.execute_reply": "2024-10-29T15:32:26.033367Z"
    },
    "papermill": {
     "duration": 0.175728,
     "end_time": "2024-10-29T15:32:26.037762",
     "exception": false,
     "start_time": "2024-10-29T15:32:25.862034",
     "status": "completed"
    },
    "tags": []
   },
   "outputs": [
    {
     "name": "stdout",
     "output_type": "stream",
     "text": [
      "Epoch: 0 | Loss: 0.31288138031959534 | Test Loss: 0.48106518387794495\n",
      "OrderedDict([('weight', tensor([0.3406])), ('bias', tensor([0.1388]))])\n",
      "Epoch: 10 | Loss: 0.1976713240146637 | Test Loss: 0.3463551998138428\n",
      "OrderedDict([('weight', tensor([0.3796])), ('bias', tensor([0.2388]))])\n",
      "Epoch: 20 | Loss: 0.08908725529909134 | Test Loss: 0.21729660034179688\n",
      "OrderedDict([('weight', tensor([0.4184])), ('bias', tensor([0.3333]))])\n",
      "Epoch: 30 | Loss: 0.053148526698350906 | Test Loss: 0.14464017748832703\n",
      "OrderedDict([('weight', tensor([0.4512])), ('bias', tensor([0.3768]))])\n",
      "Epoch: 40 | Loss: 0.04543796554207802 | Test Loss: 0.11360953003168106\n",
      "OrderedDict([('weight', tensor([0.4748])), ('bias', tensor([0.3868]))])\n",
      "Epoch: 50 | Loss: 0.04167863354086876 | Test Loss: 0.09919948130846024\n",
      "OrderedDict([('weight', tensor([0.4938])), ('bias', tensor([0.3843]))])\n",
      "Epoch: 60 | Loss: 0.03818932920694351 | Test Loss: 0.08886633068323135\n",
      "OrderedDict([('weight', tensor([0.5116])), ('bias', tensor([0.3788]))])\n",
      "Epoch: 70 | Loss: 0.03476089984178543 | Test Loss: 0.0805937647819519\n",
      "OrderedDict([('weight', tensor([0.5288])), ('bias', tensor([0.3718]))])\n",
      "Epoch: 80 | Loss: 0.03132382780313492 | Test Loss: 0.07232122868299484\n",
      "OrderedDict([('weight', tensor([0.5459])), ('bias', tensor([0.3648]))])\n",
      "Epoch: 90 | Loss: 0.02788739837706089 | Test Loss: 0.06473556160926819\n",
      "OrderedDict([('weight', tensor([0.5629])), ('bias', tensor([0.3573]))])\n",
      "Epoch: 100 | Loss: 0.024458957836031914 | Test Loss: 0.05646304413676262\n",
      "OrderedDict([('weight', tensor([0.5800])), ('bias', tensor([0.3503]))])\n",
      "Epoch: 110 | Loss: 0.021020207554101944 | Test Loss: 0.04819049686193466\n",
      "OrderedDict([('weight', tensor([0.5972])), ('bias', tensor([0.3433]))])\n",
      "Epoch: 120 | Loss: 0.01758546568453312 | Test Loss: 0.04060482233762741\n",
      "OrderedDict([('weight', tensor([0.6141])), ('bias', tensor([0.3358]))])\n",
      "Epoch: 130 | Loss: 0.014155393466353416 | Test Loss: 0.03233227878808975\n",
      "OrderedDict([('weight', tensor([0.6313])), ('bias', tensor([0.3288]))])\n",
      "Epoch: 140 | Loss: 0.010716589167714119 | Test Loss: 0.024059748277068138\n",
      "OrderedDict([('weight', tensor([0.6485])), ('bias', tensor([0.3218]))])\n",
      "Epoch: 150 | Loss: 0.0072835334576666355 | Test Loss: 0.016474086791276932\n",
      "OrderedDict([('weight', tensor([0.6654])), ('bias', tensor([0.3143]))])\n",
      "Epoch: 160 | Loss: 0.0038517764769494534 | Test Loss: 0.008201557211577892\n",
      "OrderedDict([('weight', tensor([0.6826])), ('bias', tensor([0.3073]))])\n",
      "Epoch: 170 | Loss: 0.008932482451200485 | Test Loss: 0.005023092031478882\n",
      "OrderedDict([('weight', tensor([0.6951])), ('bias', tensor([0.2993]))])\n",
      "Epoch: 180 | Loss: 0.008932482451200485 | Test Loss: 0.005023092031478882\n",
      "OrderedDict([('weight', tensor([0.6951])), ('bias', tensor([0.2993]))])\n",
      "Epoch: 190 | Loss: 0.008932482451200485 | Test Loss: 0.005023092031478882\n",
      "OrderedDict([('weight', tensor([0.6951])), ('bias', tensor([0.2993]))])\n"
     ]
    }
   ],
   "source": [
    "torch.manual_seed(42)\n",
    "\n",
    "# An epoch is one loop throught the data ( a hyperparameter because we set it ourselves)\n",
    "epochs = 200\n",
    "\n",
    "# tracking experiments (different values)\n",
    "epoch_count = []\n",
    "loss_values = []\n",
    "test_loss_values = []\n",
    "\n",
    "### TRAINING\n",
    "# 0. Loop throught thr data\n",
    "for epoch in range(epochs):\n",
    "\n",
    "    # set the model to training mode\n",
    "    model_0.train() # train mode in PyTorch sets all parameters that require gradients, to require gradients\n",
    "\n",
    "    # 1. forward pass on training data using the forward() method inside\n",
    "    y_pred = model_0(X_train)\n",
    "\n",
    "    # 2. calculate the loss (how different the models preds are to the actual values)\n",
    "    loss = loss_fn(y_pred, y_train)\n",
    "\n",
    "\n",
    "    #3. optimizer zero grad zero the gradients of the optimizer, (they accumulate by default)\n",
    "    optimizier.zero_grad()\n",
    "\n",
    "    # 4. loss backward - perform back propagation on the loss wrt the params of the model\n",
    "    loss.backward()\n",
    "\n",
    "    # 5. optimizer step - perform gradient descent\n",
    "    optimizier.step()\n",
    "\n",
    "    ### TESTING\n",
    "    model_0.eval() # turns off different settings not needed for evaluation/testing\n",
    "    with torch.inference_mode():\n",
    "        # 1. forward pass\n",
    "        test_pred = model_0(X_test)\n",
    "\n",
    "        # 2. calculate the loss\n",
    "        test_loss = loss_fn(test_pred, y_test)\n",
    "\n",
    "    if epoch % 10 == 0:\n",
    "        epoch_count.append(epoch)\n",
    "        loss_values.append(loss)\n",
    "        test_loss_values.append(test_loss)\n",
    "        print(f\"Epoch: {epoch} | Loss: {loss} | Test Loss: {test_loss}\")\n",
    "\n",
    "        #print out model state dict\n",
    "        print(model_0.state_dict())"
   ]
  },
  {
   "cell_type": "code",
   "execution_count": 15,
   "id": "9f001f9e",
   "metadata": {
    "execution": {
     "iopub.execute_input": "2024-10-29T15:32:26.081763Z",
     "iopub.status.busy": "2024-10-29T15:32:26.081304Z",
     "iopub.status.idle": "2024-10-29T15:32:26.086922Z",
     "shell.execute_reply": "2024-10-29T15:32:26.085655Z"
    },
    "papermill": {
     "duration": 0.02995,
     "end_time": "2024-10-29T15:32:26.089120",
     "exception": false,
     "start_time": "2024-10-29T15:32:26.059170",
     "status": "completed"
    },
    "tags": []
   },
   "outputs": [],
   "source": [
    "with torch.inference_mode():\n",
    "    y_preds_new = model_0(X_test)"
   ]
  },
  {
   "cell_type": "code",
   "execution_count": 16,
   "id": "bd017905",
   "metadata": {
    "execution": {
     "iopub.execute_input": "2024-10-29T15:32:26.133154Z",
     "iopub.status.busy": "2024-10-29T15:32:26.131848Z",
     "iopub.status.idle": "2024-10-29T15:32:26.140720Z",
     "shell.execute_reply": "2024-10-29T15:32:26.139489Z"
    },
    "papermill": {
     "duration": 0.03336,
     "end_time": "2024-10-29T15:32:26.143106",
     "exception": false,
     "start_time": "2024-10-29T15:32:26.109746",
     "status": "completed"
    },
    "tags": []
   },
   "outputs": [
    {
     "data": {
      "text/plain": [
       "OrderedDict([('weight', tensor([0.6990])), ('bias', tensor([0.3093]))])"
      ]
     },
     "execution_count": 16,
     "metadata": {},
     "output_type": "execute_result"
    }
   ],
   "source": [
    "model_0.state_dict()"
   ]
  },
  {
   "cell_type": "code",
   "execution_count": 17,
   "id": "13a13fee",
   "metadata": {
    "execution": {
     "iopub.execute_input": "2024-10-29T15:32:26.187132Z",
     "iopub.status.busy": "2024-10-29T15:32:26.186159Z",
     "iopub.status.idle": "2024-10-29T15:32:26.193093Z",
     "shell.execute_reply": "2024-10-29T15:32:26.192042Z"
    },
    "papermill": {
     "duration": 0.031521,
     "end_time": "2024-10-29T15:32:26.195422",
     "exception": false,
     "start_time": "2024-10-29T15:32:26.163901",
     "status": "completed"
    },
    "tags": []
   },
   "outputs": [
    {
     "data": {
      "text/plain": [
       "(0.7, 0.3)"
      ]
     },
     "execution_count": 17,
     "metadata": {},
     "output_type": "execute_result"
    }
   ],
   "source": [
    "weight, bias"
   ]
  },
  {
   "cell_type": "code",
   "execution_count": 18,
   "id": "ad3c8350",
   "metadata": {
    "execution": {
     "iopub.execute_input": "2024-10-29T15:32:26.239526Z",
     "iopub.status.busy": "2024-10-29T15:32:26.239037Z",
     "iopub.status.idle": "2024-10-29T15:32:26.608268Z",
     "shell.execute_reply": "2024-10-29T15:32:26.607025Z"
    },
    "papermill": {
     "duration": 0.394693,
     "end_time": "2024-10-29T15:32:26.610997",
     "exception": false,
     "start_time": "2024-10-29T15:32:26.216304",
     "status": "completed"
    },
    "tags": []
   },
   "outputs": [
    {
     "data": {
      "image/png": "[encoded data removed]",
      "text/plain": [
       "<Figure size 1000x700 with 1 Axes>"
      ]
     },
     "metadata": {},
     "output_type": "display_data"
    }
   ],
   "source": [
    "plot_predictions(predictions = y_preds)"
   ]
  },
  {
   "cell_type": "code",
   "execution_count": 19,
   "id": "10ecf6ff",
   "metadata": {
    "execution": {
     "iopub.execute_input": "2024-10-29T15:32:26.657588Z",
     "iopub.status.busy": "2024-10-29T15:32:26.656490Z",
     "iopub.status.idle": "2024-10-29T15:32:27.015743Z",
     "shell.execute_reply": "2024-10-29T15:32:27.014630Z"
    },
    "papermill": {
     "duration": 0.385215,
     "end_time": "2024-10-29T15:32:27.018572",
     "exception": false,
     "start_time": "2024-10-29T15:32:26.633357",
     "status": "completed"
    },
    "tags": []
   },
   "outputs": [
    {
     "data": {
      "image/png": "[encoded data removed]",
      "text/plain": [
       "<Figure size 1000x700 with 1 Axes>"
      ]
     },
     "metadata": {},
     "output_type": "display_data"
    }
   ],
   "source": [
    "plot_predictions(predictions = y_preds_new)"
   ]
  },
  {
   "cell_type": "code",
   "execution_count": 20,
   "id": "21aa064d",
   "metadata": {
    "execution": {
     "iopub.execute_input": "2024-10-29T15:32:27.065161Z",
     "iopub.status.busy": "2024-10-29T15:32:27.064674Z",
     "iopub.status.idle": "2024-10-29T15:32:27.429082Z",
     "shell.execute_reply": "2024-10-29T15:32:27.427819Z"
    },
    "papermill": {
     "duration": 0.390734,
     "end_time": "2024-10-29T15:32:27.431635",
     "exception": false,
     "start_time": "2024-10-29T15:32:27.040901",
     "status": "completed"
    },
    "tags": []
   },
   "outputs": [
    {
     "data": {
      "image/png": "[encoded data removed]",
      "text/plain": [
       "<Figure size 640x480 with 1 Axes>"
      ]
     },
     "metadata": {},
     "output_type": "display_data"
    }
   ],
   "source": [
    "# plot the loss curves\n",
    "plt.plot(epoch_count, np.array(torch.tensor(loss_values).numpy()), label = 'Training Loss')\n",
    "plt.plot(epoch_count, test_loss_values, label = 'Test Loss')\n",
    "plt.title('Training and Test Loss Curves')\n",
    "plt.ylabel('Loss')\n",
    "plt.xlabel('Epochs')\n",
    "plt.legend();"
   ]
  },
  {
   "cell_type": "markdown",
   "id": "ff1e8b4a",
   "metadata": {
    "papermill": {
     "duration": 0.022722,
     "end_time": "2024-10-29T15:32:27.477172",
     "exception": false,
     "start_time": "2024-10-29T15:32:27.454450",
     "status": "completed"
    },
    "tags": []
   },
   "source": [
    "#4. Saving a model in PyTorch\n",
    "\n",
    "There are 3 main methods you shoukd know about for saving and loading models in PyTorch.\n",
    "\n",
    "1. `torch.save` - allows you save a PyTorch object in Python's pickle format.\n",
    "2. `torch.load` - allows you load a saved PyTorch object.\n",
    "3. `torch.nn.Module.load_state_dict()` - allows you to load amodel's saved state dictionary."
   ]
  },
  {
   "cell_type": "code",
   "execution_count": 21,
   "id": "cfef1520",
   "metadata": {
    "execution": {
     "iopub.execute_input": "2024-10-29T15:32:27.524450Z",
     "iopub.status.busy": "2024-10-29T15:32:27.524026Z",
     "iopub.status.idle": "2024-10-29T15:32:27.532335Z",
     "shell.execute_reply": "2024-10-29T15:32:27.531010Z"
    },
    "papermill": {
     "duration": 0.035011,
     "end_time": "2024-10-29T15:32:27.534869",
     "exception": false,
     "start_time": "2024-10-29T15:32:27.499858",
     "status": "completed"
    },
    "tags": []
   },
   "outputs": [],
   "source": [
    "# saving PyTorch model\n",
    "from pathlib import Path\n",
    "\n",
    "# 1. create model directory\n",
    "MODEL_PATH = Path('models')\n",
    "MODEL_PATH.mkdir(parents = True, exist_ok = True)\n",
    "\n",
    "# 2. create model save path\n",
    "MODEL_NAME = '01_pytorch_workflow_model_0.pth'\n",
    "MODEL_SAVE_PATH = MODEL_PATH / MODEL_NAME\n",
    "\n",
    "# 3. save the state dict\n",
    "torch.save(obj = model_0.state_dict(),\n",
    "           f = MODEL_SAVE_PATH)"
   ]
  },
  {
   "cell_type": "code",
   "execution_count": 22,
   "id": "dccbb762",
   "metadata": {
    "execution": {
     "iopub.execute_input": "2024-10-29T15:32:27.582120Z",
     "iopub.status.busy": "2024-10-29T15:32:27.581698Z",
     "iopub.status.idle": "2024-10-29T15:32:28.741994Z",
     "shell.execute_reply": "2024-10-29T15:32:28.740526Z"
    },
    "papermill": {
     "duration": 1.187379,
     "end_time": "2024-10-29T15:32:28.744957",
     "exception": false,
     "start_time": "2024-10-29T15:32:27.557578",
     "status": "completed"
    },
    "tags": []
   },
   "outputs": [
    {
     "name": "stdout",
     "output_type": "stream",
     "text": [
      "01_pytorch_workflow_model_0.pth\r\n"
     ]
    }
   ],
   "source": [
    "!ls -1 models"
   ]
  },
  {
   "cell_type": "markdown",
   "id": "e5a4834f",
   "metadata": {
    "papermill": {
     "duration": 0.022779,
     "end_time": "2024-10-29T15:32:28.790648",
     "exception": false,
     "start_time": "2024-10-29T15:32:28.767869",
     "status": "completed"
    },
    "tags": []
   },
   "source": [
    "# 5. Loading a model in PyTorch\n",
    "Since we saved our model's `state dict()` rather than the entire model, we'll create a new instance of our model class and load the saved `state_dict()` into that."
   ]
  },
  {
   "cell_type": "code",
   "execution_count": 23,
   "id": "fd326864",
   "metadata": {
    "execution": {
     "iopub.execute_input": "2024-10-29T15:32:28.838402Z",
     "iopub.status.busy": "2024-10-29T15:32:28.837969Z",
     "iopub.status.idle": "2024-10-29T15:32:28.852273Z",
     "shell.execute_reply": "2024-10-29T15:32:28.851055Z"
    },
    "papermill": {
     "duration": 0.041194,
     "end_time": "2024-10-29T15:32:28.854651",
     "exception": false,
     "start_time": "2024-10-29T15:32:28.813457",
     "status": "completed"
    },
    "tags": []
   },
   "outputs": [
    {
     "data": {
      "text/plain": [
       "OrderedDict([('weight', tensor([0.6990])), ('bias', tensor([0.3093]))])"
      ]
     },
     "execution_count": 23,
     "metadata": {},
     "output_type": "execute_result"
    }
   ],
   "source": [
    "model_0.state_dict()"
   ]
  },
  {
   "cell_type": "code",
   "execution_count": 24,
   "id": "55888dee",
   "metadata": {
    "execution": {
     "iopub.execute_input": "2024-10-29T15:32:28.902734Z",
     "iopub.status.busy": "2024-10-29T15:32:28.901938Z",
     "iopub.status.idle": "2024-10-29T15:32:28.916017Z",
     "shell.execute_reply": "2024-10-29T15:32:28.914774Z"
    },
    "papermill": {
     "duration": 0.041298,
     "end_time": "2024-10-29T15:32:28.918835",
     "exception": false,
     "start_time": "2024-10-29T15:32:28.877537",
     "status": "completed"
    },
    "tags": []
   },
   "outputs": [
    {
     "name": "stderr",
     "output_type": "stream",
     "text": [
      "/tmp/ipykernel_17/1974079496.py:5: FutureWarning: You are using `torch.load` with `weights_only=False` (the current default value), which uses the default pickle module implicitly. It is possible to construct malicious pickle data which will execute arbitrary code during unpickling (See https://github.com/pytorch/pytorch/blob/main/SECURITY.md#untrusted-models for more details). In a future release, the default value for `weights_only` will be flipped to `True`. This limits the functions that could be executed during unpickling. Arbitrary objects will no longer be allowed to be loaded via this mode unless they are explicitly allowlisted by the user via `torch.serialization.add_safe_globals`. We recommend you start setting `weights_only=True` for any use case where you don't have full control of the loaded file. Please open an issue on GitHub for any issues related to this experimental feature.\n",
      "  loaded_model_0.load_state_dict(torch.load(f = MODEL_SAVE_PATH))\n"
     ]
    },
    {
     "data": {
      "text/plain": [
       "<All keys matched successfully>"
      ]
     },
     "execution_count": 24,
     "metadata": {},
     "output_type": "execute_result"
    }
   ],
   "source": [
    "## to load in a state_dict(), we have to instantiate a new instace of our model class\n",
    "loaded_model_0 = LinearRegressionModel()\n",
    "\n",
    "# load the saved state_dict of model_0 (this will update the new instance with updated parameters)\n",
    "loaded_model_0.load_state_dict(torch.load(f = MODEL_SAVE_PATH))"
   ]
  },
  {
   "cell_type": "code",
   "execution_count": 25,
   "id": "fcc9b997",
   "metadata": {
    "execution": {
     "iopub.execute_input": "2024-10-29T15:32:28.967055Z",
     "iopub.status.busy": "2024-10-29T15:32:28.966643Z",
     "iopub.status.idle": "2024-10-29T15:32:28.975571Z",
     "shell.execute_reply": "2024-10-29T15:32:28.974371Z"
    },
    "papermill": {
     "duration": 0.036032,
     "end_time": "2024-10-29T15:32:28.978116",
     "exception": false,
     "start_time": "2024-10-29T15:32:28.942084",
     "status": "completed"
    },
    "tags": []
   },
   "outputs": [
    {
     "data": {
      "text/plain": [
       "OrderedDict([('weight', tensor([0.6990])), ('bias', tensor([0.3093]))])"
      ]
     },
     "execution_count": 25,
     "metadata": {},
     "output_type": "execute_result"
    }
   ],
   "source": [
    "loaded_model_0.state_dict()"
   ]
  },
  {
   "cell_type": "code",
   "execution_count": 26,
   "id": "6b3b6c16",
   "metadata": {
    "execution": {
     "iopub.execute_input": "2024-10-29T15:32:29.027081Z",
     "iopub.status.busy": "2024-10-29T15:32:29.026645Z",
     "iopub.status.idle": "2024-10-29T15:32:29.035965Z",
     "shell.execute_reply": "2024-10-29T15:32:29.034825Z"
    },
    "papermill": {
     "duration": 0.036422,
     "end_time": "2024-10-29T15:32:29.038263",
     "exception": false,
     "start_time": "2024-10-29T15:32:29.001841",
     "status": "completed"
    },
    "tags": []
   },
   "outputs": [
    {
     "data": {
      "text/plain": [
       "tensor([[0.8685],\n",
       "        [0.8825],\n",
       "        [0.8965],\n",
       "        [0.9105],\n",
       "        [0.9245],\n",
       "        [0.9384],\n",
       "        [0.9524],\n",
       "        [0.9664],\n",
       "        [0.9804],\n",
       "        [0.9944]])"
      ]
     },
     "execution_count": 26,
     "metadata": {},
     "output_type": "execute_result"
    }
   ],
   "source": [
    "# make some predictions with our loaded model\n",
    "loaded_model_0.eval()\n",
    "with torch.inference_mode():\n",
    "    loaded_model_preds = loaded_model_0(X_test)\n",
    "\n",
    "loaded_model_preds"
   ]
  },
  {
   "cell_type": "code",
   "execution_count": 27,
   "id": "7eb758e9",
   "metadata": {
    "execution": {
     "iopub.execute_input": "2024-10-29T15:32:29.087479Z",
     "iopub.status.busy": "2024-10-29T15:32:29.087039Z",
     "iopub.status.idle": "2024-10-29T15:32:29.097014Z",
     "shell.execute_reply": "2024-10-29T15:32:29.095854Z"
    },
    "papermill": {
     "duration": 0.037321,
     "end_time": "2024-10-29T15:32:29.099444",
     "exception": false,
     "start_time": "2024-10-29T15:32:29.062123",
     "status": "completed"
    },
    "tags": []
   },
   "outputs": [
    {
     "data": {
      "text/plain": [
       "tensor([[0.8685],\n",
       "        [0.8825],\n",
       "        [0.8965],\n",
       "        [0.9105],\n",
       "        [0.9245],\n",
       "        [0.9384],\n",
       "        [0.9524],\n",
       "        [0.9664],\n",
       "        [0.9804],\n",
       "        [0.9944]])"
      ]
     },
     "execution_count": 27,
     "metadata": {},
     "output_type": "execute_result"
    }
   ],
   "source": [
    "model_0.eval()\n",
    "with torch.inference_mode():\n",
    "    y_preds = model_0(X_test)\n",
    "\n",
    "y_preds"
   ]
  },
  {
   "cell_type": "code",
   "execution_count": 28,
   "id": "6763c73c",
   "metadata": {
    "execution": {
     "iopub.execute_input": "2024-10-29T15:32:29.149378Z",
     "iopub.status.busy": "2024-10-29T15:32:29.148968Z",
     "iopub.status.idle": "2024-10-29T15:32:29.158122Z",
     "shell.execute_reply": "2024-10-29T15:32:29.156820Z"
    },
    "papermill": {
     "duration": 0.036933,
     "end_time": "2024-10-29T15:32:29.160614",
     "exception": false,
     "start_time": "2024-10-29T15:32:29.123681",
     "status": "completed"
    },
    "tags": []
   },
   "outputs": [
    {
     "data": {
      "text/plain": [
       "tensor([[True],\n",
       "        [True],\n",
       "        [True],\n",
       "        [True],\n",
       "        [True],\n",
       "        [True],\n",
       "        [True],\n",
       "        [True],\n",
       "        [True],\n",
       "        [True]])"
      ]
     },
     "execution_count": 28,
     "metadata": {},
     "output_type": "execute_result"
    }
   ],
   "source": [
    "# compare loaded_model_preds to original preds\n",
    "y_preds == loaded_model_preds"
   ]
  },
  {
   "cell_type": "markdown",
   "id": "6eaff3b4",
   "metadata": {
    "papermill": {
     "duration": 0.023571,
     "end_time": "2024-10-29T15:32:29.207930",
     "exception": false,
     "start_time": "2024-10-29T15:32:29.184359",
     "status": "completed"
    },
    "tags": []
   },
   "source": [
    "# 6. Putting it all together\n",
    "Let's go back through the steps above and put them all together."
   ]
  },
  {
   "cell_type": "code",
   "execution_count": 29,
   "id": "0dc23d04",
   "metadata": {
    "execution": {
     "iopub.execute_input": "2024-10-29T15:32:29.257822Z",
     "iopub.status.busy": "2024-10-29T15:32:29.256868Z",
     "iopub.status.idle": "2024-10-29T15:32:29.264717Z",
     "shell.execute_reply": "2024-10-29T15:32:29.263592Z"
    },
    "papermill": {
     "duration": 0.035728,
     "end_time": "2024-10-29T15:32:29.267238",
     "exception": false,
     "start_time": "2024-10-29T15:32:29.231510",
     "status": "completed"
    },
    "tags": []
   },
   "outputs": [
    {
     "data": {
      "text/plain": [
       "'2.4.0+cpu'"
      ]
     },
     "execution_count": 29,
     "metadata": {},
     "output_type": "execute_result"
    }
   ],
   "source": [
    "# importing libraries\n",
    "import torch\n",
    "from torch import nn\n",
    "import matplotlib.pyplot as plt\n",
    "import numpy as np\n",
    "\n",
    "# check PyTorch version\n",
    "torch.__version__"
   ]
  },
  {
   "cell_type": "markdown",
   "id": "dc0fcb30",
   "metadata": {
    "papermill": {
     "duration": 0.02389,
     "end_time": "2024-10-29T15:32:29.315119",
     "exception": false,
     "start_time": "2024-10-29T15:32:29.291229",
     "status": "completed"
    },
    "tags": []
   },
   "source": [
    "Create device-agnostic code.<br>\n",
    "This means if we have access to a GPU, our code will use it(for potentially faster computing).<br>\n",
    "If no GPU is availale, the code will default to using CPU."
   ]
  },
  {
   "cell_type": "code",
   "execution_count": 30,
   "id": "fe211021",
   "metadata": {
    "execution": {
     "iopub.execute_input": "2024-10-29T15:32:29.365142Z",
     "iopub.status.busy": "2024-10-29T15:32:29.364711Z",
     "iopub.status.idle": "2024-10-29T15:32:29.370986Z",
     "shell.execute_reply": "2024-10-29T15:32:29.369715Z"
    },
    "papermill": {
     "duration": 0.034393,
     "end_time": "2024-10-29T15:32:29.373616",
     "exception": false,
     "start_time": "2024-10-29T15:32:29.339223",
     "status": "completed"
    },
    "tags": []
   },
   "outputs": [
    {
     "name": "stdout",
     "output_type": "stream",
     "text": [
      "Using device: cpu\n"
     ]
    }
   ],
   "source": [
    "# setup device agnostic code\n",
    "device = 'cuda' if torch.cuda.is_available() else 'cpu'\n",
    "print(f'Using device: {device}')"
   ]
  },
  {
   "cell_type": "markdown",
   "id": "9b88bbd1",
   "metadata": {
    "papermill": {
     "duration": 0.025367,
     "end_time": "2024-10-29T15:32:29.423081",
     "exception": false,
     "start_time": "2024-10-29T15:32:29.397714",
     "status": "completed"
    },
    "tags": []
   },
   "source": [
    "## 6.1 Data"
   ]
  },
  {
   "cell_type": "code",
   "execution_count": 31,
   "id": "aaa7ce8e",
   "metadata": {
    "execution": {
     "iopub.execute_input": "2024-10-29T15:32:29.473883Z",
     "iopub.status.busy": "2024-10-29T15:32:29.473283Z",
     "iopub.status.idle": "2024-10-29T15:32:29.485585Z",
     "shell.execute_reply": "2024-10-29T15:32:29.484417Z"
    },
    "papermill": {
     "duration": 0.040405,
     "end_time": "2024-10-29T15:32:29.488068",
     "exception": false,
     "start_time": "2024-10-29T15:32:29.447663",
     "status": "completed"
    },
    "tags": []
   },
   "outputs": [
    {
     "data": {
      "text/plain": [
       "(tensor([[0.0000],\n",
       "         [0.0200],\n",
       "         [0.0400],\n",
       "         [0.0600],\n",
       "         [0.0800],\n",
       "         [0.1000],\n",
       "         [0.1200],\n",
       "         [0.1400],\n",
       "         [0.1600],\n",
       "         [0.1800]]),\n",
       " tensor([[0.3000],\n",
       "         [0.3140],\n",
       "         [0.3280],\n",
       "         [0.3420],\n",
       "         [0.3560],\n",
       "         [0.3700],\n",
       "         [0.3840],\n",
       "         [0.3980],\n",
       "         [0.4120],\n",
       "         [0.4260]]))"
      ]
     },
     "execution_count": 31,
     "metadata": {},
     "output_type": "execute_result"
    }
   ],
   "source": [
    "# create known parameters\n",
    "weight = 0.7\n",
    "bias = 0.3\n",
    "\n",
    "# create data\n",
    "start = 0\n",
    "end = 1\n",
    "step = 0.02\n",
    "\n",
    "# create X and y (features and labels)\n",
    "X = torch.arange(start, end, step).unsqueeze(dim= 1) # without unsqueeze, errors will pop up\n",
    "y = weight * X + bias\n",
    "\n",
    "X[:10], y[:10]"
   ]
  },
  {
   "cell_type": "code",
   "execution_count": 32,
   "id": "e6e0842b",
   "metadata": {
    "execution": {
     "iopub.execute_input": "2024-10-29T15:32:29.539865Z",
     "iopub.status.busy": "2024-10-29T15:32:29.539419Z",
     "iopub.status.idle": "2024-10-29T15:32:29.548809Z",
     "shell.execute_reply": "2024-10-29T15:32:29.547612Z"
    },
    "papermill": {
     "duration": 0.037972,
     "end_time": "2024-10-29T15:32:29.551176",
     "exception": false,
     "start_time": "2024-10-29T15:32:29.513204",
     "status": "completed"
    },
    "tags": []
   },
   "outputs": [
    {
     "data": {
      "text/plain": [
       "(40, 40, 10, 10)"
      ]
     },
     "execution_count": 32,
     "metadata": {},
     "output_type": "execute_result"
    }
   ],
   "source": [
    "# SPLIT DATA\n",
    "train_split = int(0.8 * len(X))\n",
    "X_train, y_train = X[:train_split], y[:train_split]\n",
    "X_test, y_test = X[train_split:], y[train_split:]\n",
    "\n",
    "len(X_train), len(y_train), len(X_test), len(y_test)\n"
   ]
  },
  {
   "cell_type": "code",
   "execution_count": 33,
   "id": "b2e57dc4",
   "metadata": {
    "execution": {
     "iopub.execute_input": "2024-10-29T15:32:29.602115Z",
     "iopub.status.busy": "2024-10-29T15:32:29.601287Z",
     "iopub.status.idle": "2024-10-29T15:32:29.950185Z",
     "shell.execute_reply": "2024-10-29T15:32:29.948962Z"
    },
    "papermill": {
     "duration": 0.377161,
     "end_time": "2024-10-29T15:32:29.952826",
     "exception": false,
     "start_time": "2024-10-29T15:32:29.575665",
     "status": "completed"
    },
    "tags": []
   },
   "outputs": [
    {
     "data": {
      "image/png": "[encoded data removed]",
      "text/plain": [
       "<Figure size 1000x700 with 1 Axes>"
      ]
     },
     "metadata": {},
     "output_type": "display_data"
    }
   ],
   "source": [
    "# plot the data\n",
    "\n",
    "# defining plot_preds fn\n",
    "def plot_predictions(train_data = X_train,\n",
    "                     train_labels = y_train,\n",
    "                     test_data = X_test,\n",
    "                     test_labels = y_test,\n",
    "                     predictions = None):\n",
    "    \"\"\"\n",
    "    Plots training data, test data and compares predictions.\n",
    "    \"\"\"\n",
    "    plt.figure(figsize = (10,7))\n",
    "    # plot training data in blue\n",
    "    plt.scatter(X_train, y_train, c='b', label='Training Data')\n",
    "    # plot test data in green\n",
    "    plt.scatter(X_test, y_test, c='g', label='Testing Data')\n",
    "\n",
    "    # are there predictions?\n",
    "    if predictions is not None:\n",
    "        # plot the predictions if they exist\n",
    "        plt.scatter(test_data, predictions, c='r', label='Predictions')\n",
    "\n",
    "    # show the legend\n",
    "    plt.legend(prop={'size':14})\n",
    "\n",
    "    plt.show()\n",
    "\n",
    "# using plot_preds\n",
    "plot_predictions(X_train, y_train, X_test, y_test)"
   ]
  },
  {
   "cell_type": "markdown",
   "id": "3f1c3870",
   "metadata": {
    "papermill": {
     "duration": 0.024703,
     "end_time": "2024-10-29T15:32:30.003067",
     "exception": false,
     "start_time": "2024-10-29T15:32:29.978364",
     "status": "completed"
    },
    "tags": []
   },
   "source": [
    "## 6.2 Build Model"
   ]
  },
  {
   "cell_type": "code",
   "execution_count": 34,
   "id": "50a646e0",
   "metadata": {
    "execution": {
     "iopub.execute_input": "2024-10-29T15:32:30.054947Z",
     "iopub.status.busy": "2024-10-29T15:32:30.054428Z",
     "iopub.status.idle": "2024-10-29T15:32:30.068314Z",
     "shell.execute_reply": "2024-10-29T15:32:30.067095Z"
    },
    "papermill": {
     "duration": 0.042773,
     "end_time": "2024-10-29T15:32:30.070860",
     "exception": false,
     "start_time": "2024-10-29T15:32:30.028087",
     "status": "completed"
    },
    "tags": []
   },
   "outputs": [
    {
     "data": {
      "text/plain": [
       "(LinearRegressionModelV2(\n",
       "   (linear_layer): Linear(in_features=1, out_features=1, bias=True)\n",
       " ),\n",
       " OrderedDict([('linear_layer.weight', tensor([[0.7645]])),\n",
       "              ('linear_layer.bias', tensor([0.8300]))]))"
      ]
     },
     "execution_count": 34,
     "metadata": {},
     "output_type": "execute_result"
    }
   ],
   "source": [
    "# create a linear model by subclassing nn.Module\n",
    "class LinearRegressionModelV2(nn.Module):\n",
    "    def __init__(self):\n",
    "        super().__init__()\n",
    "        # using nn.Linear() to create model params\n",
    "        self.linear_layer = nn.Linear(in_features = 1,\n",
    "                                  out_features = 1)\n",
    "    def forward(self, x: torch.Tensor) -> torch.Tensor:\n",
    "        return self.linear_layer(x)\n",
    "\n",
    "# set the manual seed\n",
    "torch.manual_seed(42)\n",
    "model_1 = LinearRegressionModelV2()\n",
    "model_1, model_1.state_dict()"
   ]
  },
  {
   "cell_type": "code",
   "execution_count": 35,
   "id": "0b7161e3",
   "metadata": {
    "execution": {
     "iopub.execute_input": "2024-10-29T15:32:30.123443Z",
     "iopub.status.busy": "2024-10-29T15:32:30.122473Z",
     "iopub.status.idle": "2024-10-29T15:32:30.129931Z",
     "shell.execute_reply": "2024-10-29T15:32:30.128822Z"
    },
    "papermill": {
     "duration": 0.036267,
     "end_time": "2024-10-29T15:32:30.132306",
     "exception": false,
     "start_time": "2024-10-29T15:32:30.096039",
     "status": "completed"
    },
    "tags": []
   },
   "outputs": [
    {
     "data": {
      "text/plain": [
       "device(type='cpu')"
      ]
     },
     "execution_count": 35,
     "metadata": {},
     "output_type": "execute_result"
    }
   ],
   "source": [
    "# set model to use target device\n",
    "next(model_1.parameters()).device"
   ]
  },
  {
   "cell_type": "code",
   "execution_count": 36,
   "id": "b66c7f45",
   "metadata": {
    "execution": {
     "iopub.execute_input": "2024-10-29T15:32:30.184702Z",
     "iopub.status.busy": "2024-10-29T15:32:30.184246Z",
     "iopub.status.idle": "2024-10-29T15:32:30.194895Z",
     "shell.execute_reply": "2024-10-29T15:32:30.193820Z"
    },
    "papermill": {
     "duration": 0.039742,
     "end_time": "2024-10-29T15:32:30.197387",
     "exception": false,
     "start_time": "2024-10-29T15:32:30.157645",
     "status": "completed"
    },
    "tags": []
   },
   "outputs": [
    {
     "data": {
      "text/plain": [
       "device(type='cpu')"
      ]
     },
     "execution_count": 36,
     "metadata": {},
     "output_type": "execute_result"
    }
   ],
   "source": [
    "model_1.to(device)\n",
    "next(model_1.parameters()).device"
   ]
  },
  {
   "cell_type": "markdown",
   "id": "95cfbfc5",
   "metadata": {
    "papermill": {
     "duration": 0.025129,
     "end_time": "2024-10-29T15:32:30.248374",
     "exception": false,
     "start_time": "2024-10-29T15:32:30.223245",
     "status": "completed"
    },
    "tags": []
   },
   "source": [
    "## 6.3 Training Model\n",
    "For training we need:\n",
    "* Loss function\n",
    "* Optimizer\n",
    "* Training loop\n",
    "* Testing loop"
   ]
  },
  {
   "cell_type": "code",
   "execution_count": 37,
   "id": "6b04cf48",
   "metadata": {
    "execution": {
     "iopub.execute_input": "2024-10-29T15:32:30.301827Z",
     "iopub.status.busy": "2024-10-29T15:32:30.301262Z",
     "iopub.status.idle": "2024-10-29T15:32:30.307559Z",
     "shell.execute_reply": "2024-10-29T15:32:30.306038Z"
    },
    "papermill": {
     "duration": 0.03629,
     "end_time": "2024-10-29T15:32:30.310169",
     "exception": false,
     "start_time": "2024-10-29T15:32:30.273879",
     "status": "completed"
    },
    "tags": []
   },
   "outputs": [],
   "source": [
    "# setting up loss fn\n",
    "loss_fn = nn.L1Loss()\n",
    "\n",
    "# setting up optimizer\n",
    "optimizer = torch.optim.SGD(params = model_1.parameters(),\n",
    "                        lr = 0.01)"
   ]
  },
  {
   "cell_type": "code",
   "execution_count": 38,
   "id": "8ed33e53",
   "metadata": {
    "execution": {
     "iopub.execute_input": "2024-10-29T15:32:30.363485Z",
     "iopub.status.busy": "2024-10-29T15:32:30.362465Z",
     "iopub.status.idle": "2024-10-29T15:32:30.508274Z",
     "shell.execute_reply": "2024-10-29T15:32:30.506965Z"
    },
    "papermill": {
     "duration": 0.175735,
     "end_time": "2024-10-29T15:32:30.511207",
     "exception": false,
     "start_time": "2024-10-29T15:32:30.335472",
     "status": "completed"
    },
    "tags": []
   },
   "outputs": [
    {
     "name": "stdout",
     "output_type": "stream",
     "text": [
      "Epoch: 0 | Loss: 0.5551779866218567 | Test Loss: 0.5739762187004089\n",
      "Epoch: 10 | Loss: 0.4399680495262146 | Test Loss: 0.4392663538455963\n",
      "Epoch: 20 | Loss: 0.3247582018375397 | Test Loss: 0.30455657839775085\n",
      "Epoch: 30 | Loss: 0.20954827964305878 | Test Loss: 0.16984674334526062\n",
      "Epoch: 40 | Loss: 0.09433844685554504 | Test Loss: 0.03513689711689949\n",
      "Epoch: 50 | Loss: 0.023886386305093765 | Test Loss: 0.04784906655550003\n",
      "Epoch: 60 | Loss: 0.0199567973613739 | Test Loss: 0.04580312222242355\n",
      "Epoch: 70 | Loss: 0.016517987474799156 | Test Loss: 0.0375305712223053\n",
      "Epoch: 80 | Loss: 0.013089170679450035 | Test Loss: 0.029944902285933495\n",
      "Epoch: 90 | Loss: 0.009653178043663502 | Test Loss: 0.02167237363755703\n",
      "Epoch: 100 | Loss: 0.006215679459273815 | Test Loss: 0.014086711220443249\n",
      "Epoch: 110 | Loss: 0.002787243574857712 | Test Loss: 0.005814164876937866\n",
      "Epoch: 120 | Loss: 0.0012645035749301314 | Test Loss: 0.013801807537674904\n",
      "Epoch: 130 | Loss: 0.0012645035749301314 | Test Loss: 0.013801807537674904\n",
      "Epoch: 140 | Loss: 0.0012645035749301314 | Test Loss: 0.013801807537674904\n",
      "Epoch: 150 | Loss: 0.0012645035749301314 | Test Loss: 0.013801807537674904\n",
      "Epoch: 160 | Loss: 0.0012645035749301314 | Test Loss: 0.013801807537674904\n",
      "Epoch: 170 | Loss: 0.0012645035749301314 | Test Loss: 0.013801807537674904\n",
      "Epoch: 180 | Loss: 0.0012645035749301314 | Test Loss: 0.013801807537674904\n",
      "Epoch: 190 | Loss: 0.0012645035749301314 | Test Loss: 0.013801807537674904\n"
     ]
    }
   ],
   "source": [
    "# training loop\n",
    "torch.manual_seed(42)\n",
    "\n",
    "epochs = 200\n",
    "\n",
    "# putting data on the target device (device agnostic code for data)\n",
    "X_train = X_train.to(device)\n",
    "y_train = y_train.to(device)\n",
    "X_test = X_test.to(device)\n",
    "y_test = y_test.to(device)\n",
    "\n",
    "for epoch in range(epochs):\n",
    "    model_1.train()\n",
    "    # 1. Forward pass\n",
    "    y_pred = model_1(X_train)\n",
    "\n",
    "    # 2. Calculate loss\n",
    "    loss = loss_fn(y_pred, y_train)\n",
    "\n",
    "    # 3. optimizer zero grad\n",
    "    optimizer.zero_grad()\n",
    "\n",
    "    # 4. Perform back propagation\n",
    "    loss.backward()\n",
    "\n",
    "    # 5. Optimizer step\n",
    "    optimizer.step()\n",
    "\n",
    "    ### TESTING\n",
    "    model_1.eval()\n",
    "    with torch.inference_mode():\n",
    "        test_pred = model_1(X_test)\n",
    "        test_loss = loss_fn(test_pred, y_test)\n",
    "\n",
    "    if epoch % 10 == 0:\n",
    "        print(f'Epoch: {epoch} | Loss: {loss} | Test Loss: {test_loss}')"
   ]
  },
  {
   "cell_type": "code",
   "execution_count": 39,
   "id": "4da86f9e",
   "metadata": {
    "execution": {
     "iopub.execute_input": "2024-10-29T15:32:30.564969Z",
     "iopub.status.busy": "2024-10-29T15:32:30.564515Z",
     "iopub.status.idle": "2024-10-29T15:32:30.573342Z",
     "shell.execute_reply": "2024-10-29T15:32:30.572255Z"
    },
    "papermill": {
     "duration": 0.039171,
     "end_time": "2024-10-29T15:32:30.575938",
     "exception": false,
     "start_time": "2024-10-29T15:32:30.536767",
     "status": "completed"
    },
    "tags": []
   },
   "outputs": [
    {
     "data": {
      "text/plain": [
       "OrderedDict([('linear_layer.weight', tensor([[0.6968]])),\n",
       "             ('linear_layer.bias', tensor([0.3025]))])"
      ]
     },
     "execution_count": 39,
     "metadata": {},
     "output_type": "execute_result"
    }
   ],
   "source": [
    "model_1.state_dict()"
   ]
  },
  {
   "cell_type": "code",
   "execution_count": 40,
   "id": "8c3c6a26",
   "metadata": {
    "execution": {
     "iopub.execute_input": "2024-10-29T15:32:30.629533Z",
     "iopub.status.busy": "2024-10-29T15:32:30.629121Z",
     "iopub.status.idle": "2024-10-29T15:32:30.636358Z",
     "shell.execute_reply": "2024-10-29T15:32:30.635290Z"
    },
    "papermill": {
     "duration": 0.036867,
     "end_time": "2024-10-29T15:32:30.638852",
     "exception": false,
     "start_time": "2024-10-29T15:32:30.601985",
     "status": "completed"
    },
    "tags": []
   },
   "outputs": [
    {
     "data": {
      "text/plain": [
       "(0.7, 0.3)"
      ]
     },
     "execution_count": 40,
     "metadata": {},
     "output_type": "execute_result"
    }
   ],
   "source": [
    "weight, bias"
   ]
  },
  {
   "cell_type": "code",
   "execution_count": 41,
   "id": "9e33ca6b",
   "metadata": {
    "execution": {
     "iopub.execute_input": "2024-10-29T15:32:30.693175Z",
     "iopub.status.busy": "2024-10-29T15:32:30.692766Z",
     "iopub.status.idle": "2024-10-29T15:32:30.702248Z",
     "shell.execute_reply": "2024-10-29T15:32:30.701140Z"
    },
    "papermill": {
     "duration": 0.039393,
     "end_time": "2024-10-29T15:32:30.704427",
     "exception": false,
     "start_time": "2024-10-29T15:32:30.665034",
     "status": "completed"
    },
    "tags": []
   },
   "outputs": [
    {
     "data": {
      "text/plain": [
       "tensor([[0.8600],\n",
       "        [0.8739],\n",
       "        [0.8878],\n",
       "        [0.9018],\n",
       "        [0.9157],\n",
       "        [0.9296],\n",
       "        [0.9436],\n",
       "        [0.9575],\n",
       "        [0.9714],\n",
       "        [0.9854]])"
      ]
     },
     "execution_count": 41,
     "metadata": {},
     "output_type": "execute_result"
    }
   ],
   "source": [
    "model_1.eval()\n",
    "\n",
    "with torch.inference_mode():\n",
    "    y_preds = model_1(X_test)\n",
    "y_preds"
   ]
  },
  {
   "cell_type": "code",
   "execution_count": 42,
   "id": "bc0ed6d0",
   "metadata": {
    "execution": {
     "iopub.execute_input": "2024-10-29T15:32:30.758849Z",
     "iopub.status.busy": "2024-10-29T15:32:30.758353Z",
     "iopub.status.idle": "2024-10-29T15:32:31.126301Z",
     "shell.execute_reply": "2024-10-29T15:32:31.125012Z"
    },
    "papermill": {
     "duration": 0.398707,
     "end_time": "2024-10-29T15:32:31.129175",
     "exception": false,
     "start_time": "2024-10-29T15:32:30.730468",
     "status": "completed"
    },
    "tags": []
   },
   "outputs": [
    {
     "data": {
      "image/png": "[encoded data removed]",
      "text/plain": [
       "<Figure size 1000x700 with 1 Axes>"
      ]
     },
     "metadata": {},
     "output_type": "display_data"
    }
   ],
   "source": [
    "y_preds = y_preds.cpu()\n",
    "plot_predictions(predictions = y_preds.cpu())"
   ]
  },
  {
   "cell_type": "code",
   "execution_count": 43,
   "id": "95d7494f",
   "metadata": {
    "execution": {
     "iopub.execute_input": "2024-10-29T15:32:31.184303Z",
     "iopub.status.busy": "2024-10-29T15:32:31.183884Z",
     "iopub.status.idle": "2024-10-29T15:32:31.190908Z",
     "shell.execute_reply": "2024-10-29T15:32:31.189776Z"
    },
    "papermill": {
     "duration": 0.037433,
     "end_time": "2024-10-29T15:32:31.193302",
     "exception": false,
     "start_time": "2024-10-29T15:32:31.155869",
     "status": "completed"
    },
    "tags": []
   },
   "outputs": [],
   "source": [
    "from pathlib import Path\n",
    "\n",
    "MODEL_NAME = '01_pytorch_workflow_model_1.pth'\n",
    "MODEL_SAVE_PATH = MODEL_PATH / MODEL_NAME\n",
    "\n",
    "torch.save(obj = model_1.state_dict(),\n",
    "           f = MODEL_SAVE_PATH)"
   ]
  },
  {
   "cell_type": "code",
   "execution_count": 44,
   "id": "14732305",
   "metadata": {
    "execution": {
     "iopub.execute_input": "2024-10-29T15:32:31.248380Z",
     "iopub.status.busy": "2024-10-29T15:32:31.247924Z",
     "iopub.status.idle": "2024-10-29T15:32:31.257135Z",
     "shell.execute_reply": "2024-10-29T15:32:31.255799Z"
    },
    "papermill": {
     "duration": 0.039426,
     "end_time": "2024-10-29T15:32:31.259532",
     "exception": false,
     "start_time": "2024-10-29T15:32:31.220106",
     "status": "completed"
    },
    "tags": []
   },
   "outputs": [
    {
     "data": {
      "text/plain": [
       "OrderedDict([('linear_layer.weight', tensor([[0.6968]])),\n",
       "             ('linear_layer.bias', tensor([0.3025]))])"
      ]
     },
     "execution_count": 44,
     "metadata": {},
     "output_type": "execute_result"
    }
   ],
   "source": [
    "model_1.state_dict()"
   ]
  },
  {
   "cell_type": "code",
   "execution_count": 45,
   "id": "35497d16",
   "metadata": {
    "execution": {
     "iopub.execute_input": "2024-10-29T15:32:31.315326Z",
     "iopub.status.busy": "2024-10-29T15:32:31.314877Z",
     "iopub.status.idle": "2024-10-29T15:32:31.325978Z",
     "shell.execute_reply": "2024-10-29T15:32:31.324811Z"
    },
    "papermill": {
     "duration": 0.041825,
     "end_time": "2024-10-29T15:32:31.328393",
     "exception": false,
     "start_time": "2024-10-29T15:32:31.286568",
     "status": "completed"
    },
    "tags": []
   },
   "outputs": [
    {
     "name": "stderr",
     "output_type": "stream",
     "text": [
      "/tmp/ipykernel_17/1887818031.py:6: FutureWarning: You are using `torch.load` with `weights_only=False` (the current default value), which uses the default pickle module implicitly. It is possible to construct malicious pickle data which will execute arbitrary code during unpickling (See https://github.com/pytorch/pytorch/blob/main/SECURITY.md#untrusted-models for more details). In a future release, the default value for `weights_only` will be flipped to `True`. This limits the functions that could be executed during unpickling. Arbitrary objects will no longer be allowed to be loaded via this mode unless they are explicitly allowlisted by the user via `torch.serialization.add_safe_globals`. We recommend you start setting `weights_only=True` for any use case where you don't have full control of the loaded file. Please open an issue on GitHub for any issues related to this experimental feature.\n",
      "  loaded_model_1.load_state_dict(torch.load(f = MODEL_SAVE_PATH))\n"
     ]
    },
    {
     "data": {
      "text/plain": [
       "LinearRegressionModelV2(\n",
       "  (linear_layer): Linear(in_features=1, out_features=1, bias=True)\n",
       ")"
      ]
     },
     "execution_count": 45,
     "metadata": {},
     "output_type": "execute_result"
    }
   ],
   "source": [
    "# loading the model\n",
    "# create new instance of linear regression model v2\n",
    "loaded_model_1 = LinearRegressionModelV2()\n",
    "\n",
    "# load the saved state_dict of model_1 (this will update the new instance with updated parameters)\n",
    "loaded_model_1.load_state_dict(torch.load(f = MODEL_SAVE_PATH))\n",
    "\n",
    "loaded_model_1.to(device)"
   ]
  },
  {
   "cell_type": "code",
   "execution_count": 46,
   "id": "93e3dce6",
   "metadata": {
    "execution": {
     "iopub.execute_input": "2024-10-29T15:32:31.384384Z",
     "iopub.status.busy": "2024-10-29T15:32:31.383930Z",
     "iopub.status.idle": "2024-10-29T15:32:31.393439Z",
     "shell.execute_reply": "2024-10-29T15:32:31.392372Z"
    },
    "papermill": {
     "duration": 0.040424,
     "end_time": "2024-10-29T15:32:31.395803",
     "exception": false,
     "start_time": "2024-10-29T15:32:31.355379",
     "status": "completed"
    },
    "tags": []
   },
   "outputs": [
    {
     "data": {
      "text/plain": [
       "tensor([[True],\n",
       "        [True],\n",
       "        [True],\n",
       "        [True],\n",
       "        [True],\n",
       "        [True],\n",
       "        [True],\n",
       "        [True],\n",
       "        [True],\n",
       "        [True]])"
      ]
     },
     "execution_count": 46,
     "metadata": {},
     "output_type": "execute_result"
    }
   ],
   "source": [
    "next(loaded_model_1.parameters()).device\n",
    "\n",
    "# evaluate model\n",
    "loaded_model_1.eval()\n",
    "with torch.inference_mode():\n",
    "    loaded_model_1_preds = loaded_model_1(X_test)\n",
    "y_preds == loaded_model_1_preds"
   ]
  },
  {
   "cell_type": "code",
   "execution_count": null,
   "id": "ad65b0d2",
   "metadata": {
    "papermill": {
     "duration": 0.028362,
     "end_time": "2024-10-29T15:32:31.451169",
     "exception": false,
     "start_time": "2024-10-29T15:32:31.422807",
     "status": "completed"
    },
    "tags": []
   },
   "outputs": [],
   "source": []
  }
 ],
 "metadata": {
  "kaggle": {
   "accelerator": "none",
   "dataSources": [],
   "dockerImageVersionId": 30786,
   "isGpuEnabled": false,
   "isInternetEnabled": true,
   "language": "python",
   "sourceType": "notebook"
  },
  "kernelspec": {
   "display_name": "Python 3",
   "language": "python",
   "name": "python3"
  },
  "language_info": {
   "codemirror_mode": {
    "name": "ipython",
    "version": 3
   },
   "file_extension": ".py",
   "mimetype": "text/x-python",
   "name": "python",
   "nbconvert_exporter": "python",
   "pygments_lexer": "ipython3",
   "version": "3.10.14"
  },
  "papermill": {
   "default_parameters": {},
   "duration": 16.59374,
   "end_time": "2024-10-29T15:32:32.601500",
   "environment_variables": {},
   "exception": null,
   "input_path": "__notebook__.ipynb",
   "output_path": "__notebook__.ipynb",
   "parameters": {},
   "start_time": "2024-10-29T15:32:16.007760",
   "version": "2.6.0"
  }
 },
 "nbformat": 4,
 "nbformat_minor": 5
}
